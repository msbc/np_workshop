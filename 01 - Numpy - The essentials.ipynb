{
 "cells": [
  {
   "cell_type": "markdown",
   "metadata": {},
   "source": [
    "Let's start by importing numpy and checking our version (yours may be a little different -- that's ok)"
   ]
  },
  {
   "cell_type": "code",
   "execution_count": null,
   "metadata": {},
   "outputs": [],
   "source": [
    "import numpy as np\n",
    "print(np.__version__)"
   ]
  },
  {
   "cell_type": "markdown",
   "metadata": {},
   "source": [
    "## Create first array\n",
    "\n",
    "The simplest way to create a small array (*ndarray* or just *array* in numpy terminology) is to specify the values in a list."
   ]
  },
  {
   "cell_type": "code",
   "execution_count": null,
   "metadata": {},
   "outputs": [],
   "source": [
    "a = np.array([1,2,3,4])  # 1-d array\n",
    "print(a)\n",
    "\n",
    "b = np.array([[1,2],[3,4]])  # 2-d array\n",
    "print(b)\n",
    "\n",
    "c = np.array([[1,2],[3,4]], dtype=np.float64)  # 2-d array of a given 'data-type'\n",
    "print(c)\n",
    "\n",
    "# The outputs in the notebook may look like list, but they aren't lists\n",
    "print(type(c))"
   ]
  },
  {
   "cell_type": "markdown",
   "metadata": {},
   "source": [
    "# Common ways to initialize ndarrays\n",
    "\n",
    "Other than specifying the values explicitly like above (which is rarely practical), we can initialise an ndarray of a given **shape** in several ways:"
   ]
  },
  {
   "cell_type": "code",
   "execution_count": null,
   "metadata": {},
   "outputs": [],
   "source": [
    "# Create an uninitialized array of random values\n",
    "b = np.empty((2, 2))\n",
    "\n",
    "# Create an array of 0s\n",
    "c = np.zeros((3, 2))\n",
    "\n",
    "# Create an array of 1s\n",
    "d = np.ones((2, 3))\n",
    "\n",
    "# Create an identity matrix\n",
    "I = np.eye(4)  # Square, so we only need to specify the no. of rows\n",
    "\n",
    "R1 = np.random.random((2, 3))\n",
    "\n",
    "# Create an array of random values from a distribution with mean=0 and std=1\n",
    "R2 = np.random.randn(2, 3)\n",
    "\n",
    "print('np.arange(5)        = \\n%s\\n' % np.arange(5))          # Array of 5 sequential integers\n",
    "print('np.zeros((3,2))     = \\n%s\\n' % np.zeros((3,2)))       # A 3x2 array of zeros\n",
    "print('np.ones(5)          = \\n%s\\n' % np.ones((2,3)))        # A 2x3 array of ones\n",
    "print('np.empty((2,3))     = \\n%s\\n' % np.empty((2,3)))       # An uninitialized 2x3 array\n",
    "print('np.linspace(0,10,5) = \\n%s\\n' % np.linspace(0,10,5))   # A length-5 evenly-spaced array from 0 to 10.\n",
    "print('np.random.rand(3,4)   = \\n%s\\n' % np.random.rand(3,4)) # A 3x4 array of random numbers from a uniform distribution in [0,1)."
   ]
  },
  {
   "cell_type": "code",
   "execution_count": null,
   "metadata": {},
   "outputs": [],
   "source": [
    "# A 2x2 array of random numbers from a normal distribution with mean=0 and std=1\n",
    "print('np.random.randn(2,2)  = \\n%s\\n' % np.random.randn((2,2)))"
   ]
  },
  {
   "cell_type": "markdown",
   "metadata": {},
   "source": [
    "Oops - what happened? Let's take a quick peek at the documentation - https://numpy.org/doc/1.19/\n",
    "\n",
    "Notice the slight difference in how we're supposed to call `ones` and `rand`.\n",
    "\n",
    "In general, when specifying the shape of an array, the general rule of thumb is to specify a tuple of integers (referred to as the *shape* or *size* parameter in the documentation)."
   ]
  },
  {
   "cell_type": "markdown",
   "metadata": {},
   "source": [
    "# Useful attributes for inspecting an ndarray"
   ]
  },
  {
   "cell_type": "code",
   "execution_count": null,
   "metadata": {},
   "outputs": [],
   "source": [
    "# VERY helpful to see the 'shape' of an ndarray to make sure you have what you expect.\n",
    "# This is what most professional programmers rely on for debugging purposes.\n",
    "a = np.array([[1, 0, 1], [0, 1, 0]])\n",
    "print(a.shape)\n",
    "# We will keep inspecting the shape of arrays regularly to maintain sanity!\n",
    "\n",
    "# No. of dimensions of an ndarray\n",
    "# This is also called 'rank' of the ndarray in the numpy world\n",
    "# (Not to be confused with the 'rank' of a matrix which is a concept in linear algebra)\n",
    "print(a.ndim)\n",
    "\n",
    "# Total no. of elements in an ndarray - product of shape values\n",
    "print(a.size)\n",
    "\n",
    "# The data-type of an ndarray\n",
    "print(a.dtype)"
   ]
  },
  {
   "cell_type": "markdown",
   "metadata": {},
   "source": [
    "Arrays have an attribute `ndim` that reflects the dimension.  In Numpy, each dimension is called an **axis** (starting with axis-0, then axis-1), and they indicate the direction you're *moving along*.\n",
    "\n",
    "![np1d](images/np1d.png)"
   ]
  },
  {
   "cell_type": "markdown",
   "metadata": {},
   "source": [
    "![np2d](images/np2d.png)"
   ]
  },
  {
   "cell_type": "markdown",
   "metadata": {},
   "source": [
    "![np3d](images/np3d.png)"
   ]
  },
  {
   "cell_type": "markdown",
   "metadata": {},
   "source": [
    "### dtypes\n",
    "\n",
    "Unlike lists, Numpy arrays *MUST* have elements that are all of the same type.  The type is reflected in an array attribute `dtype`. Most common data types are supported by Numpy. For a complete list, see [Numpy Data Types](https://numpy.org/doc/stable/user/basics.types.html)."
   ]
  },
  {
   "cell_type": "code",
   "execution_count": null,
   "metadata": {},
   "outputs": [],
   "source": [
    "a = np.array([[1,2,3],[4,5,6]], dtype=np.int8)\n",
    "b = np.array([[1,2,3],[4,5,6]], dtype=np.float64)\n",
    "print(a.dtype)\n",
    "print(b.dtype)\n",
    "\n",
    "c = a.astype(np.float32)\n",
    "print(c.dtype)"
   ]
  },
  {
   "cell_type": "markdown",
   "metadata": {},
   "source": [
    "## Reshape as a quick way to create n-dimensional arrays"
   ]
  },
  {
   "cell_type": "code",
   "execution_count": null,
   "metadata": {},
   "outputs": [],
   "source": [
    "a = np.arange(300)\n",
    "print(a.shape)\n",
    "\n",
    "b = a.reshape(30, 10)\n",
    "print(b.shape)\n",
    "\n",
    "c = a.reshape(30, 5, 2)\n",
    "print(c.shape)\n",
    "\n",
    "# Use -1 to auto-calculate\n",
    "d = a.reshape(3, 10, 2, -1)\n",
    "print(d.shape)"
   ]
  },
  {
   "cell_type": "markdown",
   "metadata": {},
   "source": [
    "### Exercise 1\n",
    "\n",
    "Given n, create a n x n matrix `M` of random values between 0 and 1. Multiply it by an Identity Matrix and verify that the result is unchanged from `M`.\n",
    "\n",
    "$$\n",
    "    M * I = M\n",
    "$$\n",
    "\n",
    "Numpy Functions that might come in handy here are `np.random.randn`, `np.dot`, `np.eye` and `np.allclose` (or `np.all`)\n",
    "\n",
    "(https://numpy.org/doc/1.19/)"
   ]
  },
  {
   "cell_type": "code",
   "execution_count": null,
   "metadata": {},
   "outputs": [],
   "source": [
    "# ----------------------- #\n",
    "# COMPLETE THIS CODE\n",
    "# ----------------------- #"
   ]
  },
  {
   "cell_type": "markdown",
   "metadata": {},
   "source": [
    "# Accessing elements\n",
    "In native Python, the indexing operator, the brackets **[]**, select items from a container. This is most commonly done in tuples, lists and dictionaries. ndarrays use the same operator for selection. \n",
    "\n",
    "For the following examples we'll use the following random 10x5 array of floats."
   ]
  },
  {
   "cell_type": "code",
   "execution_count": null,
   "metadata": {},
   "outputs": [],
   "source": [
    "np.random.seed(123)\n",
    "array = np.random.randn(10, 5)\n",
    "array = array.round(2)\n",
    "array"
   ]
  },
  {
   "cell_type": "code",
   "execution_count": null,
   "metadata": {},
   "outputs": [],
   "source": [
    "# To select a single element simply place the index of the row and column\n",
    "# inside the brackets separated by a comma.\n",
    "# Select the element at 4th row, 3rd column\n",
    "\n",
    "# Get in the habit of counting from 0 - 0th row, 1st row .. etc\n",
    "array[4, 3]"
   ]
  },
  {
   "cell_type": "code",
   "execution_count": null,
   "metadata": {},
   "outputs": [],
   "source": [
    "# select all the rows of the 4th column\n",
    "array[:, 4]"
   ]
  },
  {
   "cell_type": "code",
   "execution_count": null,
   "metadata": {},
   "outputs": [],
   "source": [
    "# Use slice notation to select a block of data\n",
    "array[5:10, 2:5]"
   ]
  },
  {
   "cell_type": "code",
   "execution_count": null,
   "metadata": {},
   "outputs": [],
   "source": [
    "# start:stop:step notation\n",
    "array[3:10:5, ::2]"
   ]
  },
  {
   "cell_type": "code",
   "execution_count": null,
   "metadata": {},
   "outputs": [],
   "source": [
    "# Slicing doesn't copy - we're only \"viewing\" a window to our original data\n",
    "np.shares_memory(array[5:10, :], array)"
   ]
  },
  {
   "cell_type": "code",
   "execution_count": null,
   "metadata": {},
   "outputs": [],
   "source": [
    "# Slices (or regular indexing) can appear on the LHS of assignments\n",
    "# allowing us to change the underlying data across all arrays!\n",
    "# THIS IS THE SOURCE OF MANY MANY BUGS! BE CAREFUL!\n",
    "array[1:3, 2:4] = 0\n",
    "print(array)\n",
    "\n",
    "# Wait - how did numpy do the intuitive thing even though the RHS was a scalar?\n",
    "# Broadcasting! We'll come back to that."
   ]
  },
  {
   "cell_type": "markdown",
   "metadata": {},
   "source": [
    "## Underlying memory layout of a 2D array\n",
    "\n",
    "### Row Major (or 'C' ordering)\n",
    "![row_major](images/row-major-2D.png)\n",
    "\n",
    "Matlab/R/Julia use column-major (or 'Fortran' ordering)\n",
    "![column_major](images/column-major-2D.png)"
   ]
  },
  {
   "cell_type": "code",
   "execution_count": null,
   "metadata": {},
   "outputs": [],
   "source": [
    "A = np.arange(12)  #1D\n",
    "print(A)\n",
    "\n",
    "A4x3 = A.reshape(4, 3)  #2D, in row-major order ('C' order) by default\n",
    "print(A4x3)\n",
    "\n",
    "A4x3F = A.reshape(4, 3, order='F') #2D, column-major like Fortran\n",
    "print(A4x3F)"
   ]
  },
  {
   "cell_type": "markdown",
   "metadata": {},
   "source": [
    "## What does row-major mean for higher-dimensional arrays?\n",
    "\n",
    "For >2 dimensions, our notation of *row* and *column* breaks down. But remember the following statement (Python programmers end up repeating this in their head many times a day!)\n",
    "\n",
    "**In row-major layout of multi-dimensional arrays, the last index is the fastest changing**\n",
    "\n",
    "### Exercise 2\n",
    "\n",
    "Create a 3-d array that looks like the following. Print the values of the 3 faces you see here to verify you did this correctly.\n",
    "\n",
    "![np3d](images/np3d.png)"
   ]
  },
  {
   "cell_type": "code",
   "execution_count": null,
   "metadata": {},
   "outputs": [],
   "source": [
    "# ----------------------- #\n",
    "# COMPLETE THIS CODE\n",
    "# ----------------------- #"
   ]
  },
  {
   "cell_type": "markdown",
   "metadata": {},
   "source": [
    "Crucially, *all four of these arrays share the same underlying data!*  Here are some ways to do the object introspection to prove it."
   ]
  },
  {
   "cell_type": "code",
   "execution_count": null,
   "metadata": {},
   "outputs": [],
   "source": [
    "print(A.flags)  # A \"owns\" the data...\n",
    "\n",
    "# But none of the others do\n",
    "print(A4x3.flags)\n",
    "print(A4x3.flags['OWNDATA'])  # for brevity\n",
    "print(A4x3F.flags)"
   ]
  },
  {
   "cell_type": "markdown",
   "metadata": {},
   "source": [
    "![array_attributes](images/array_attributes.png)"
   ]
  },
  {
   "cell_type": "code",
   "execution_count": null,
   "metadata": {},
   "outputs": [],
   "source": [
    "# .base attribute is None if you own your data\n",
    "print(A.base)\n",
    "print(A4x3.base)\n",
    "A4x3.base is A4x3F.base  # These two share a common base"
   ]
  },
  {
   "cell_type": "code",
   "execution_count": null,
   "metadata": {},
   "outputs": [],
   "source": [
    "# Another way to tell if two arrays share any memory\n",
    "np.shares_memory(A, A4x3)"
   ]
  },
  {
   "cell_type": "code",
   "execution_count": null,
   "metadata": {},
   "outputs": [],
   "source": [
    "# This is all in bytes\n",
    "print(A.strides)\n",
    "print(A4x3.strides)\n",
    "print(A4x3F.strides)"
   ]
  },
  {
   "cell_type": "markdown",
   "metadata": {},
   "source": [
    "So a reshape is essentially instantaneous, a non-operation or \"no-op\".  All it does is change your *view* of the data."
   ]
  },
  {
   "cell_type": "markdown",
   "metadata": {},
   "source": [
    "### Exercise 3\n",
    "\n",
    "Validate that the following operations work copy-free."
   ]
  },
  {
   "cell_type": "code",
   "execution_count": null,
   "metadata": {},
   "outputs": [],
   "source": [
    "Arow = A.reshape(1, 12)\n",
    "print(Arow, Arow.ndim)\n",
    "\n",
    "Acol = A.reshape(12, 1)\n",
    "print(Acol, Acol.ndim)\n",
    "\n",
    "print(A.ravel())        # Makes array 1D\n",
    "print(Acol.squeeze())   # Eliminates any axes of length 1\n",
    "print(A4x3.T)           # Transpose\n",
    "print(A.view(np.int32)) # Reinterpret the bytes as 32-bit integers rather than 64-bit\n",
    "\n",
    "# ----------------------- #\n",
    "# COMPLETE THIS CODE\n",
    "# ----------------------- #"
   ]
  },
  {
   "cell_type": "markdown",
   "metadata": {},
   "source": [
    "Incidentally, you can always make a copy using an array's `.copy()` method.  Just be mindful of your memory budget."
   ]
  },
  {
   "cell_type": "code",
   "execution_count": null,
   "metadata": {},
   "outputs": [],
   "source": [
    "A2 = A.copy()\n",
    "np.shares_memory(A2,A)"
   ]
  },
  {
   "cell_type": "markdown",
   "metadata": {},
   "source": [
    "## Some ways of assembling N-dimensional arrays"
   ]
  },
  {
   "cell_type": "code",
   "execution_count": null,
   "metadata": {},
   "outputs": [],
   "source": [
    "a = np.arange(6)\n",
    "print(a)\n",
    "print(a.shape)\n",
    "\n",
    "print(np.hstack([a, a]))\n",
    "print(np.vstack([a, a]))"
   ]
  },
  {
   "cell_type": "markdown",
   "metadata": {},
   "source": [
    "# Operations on the entire array\n",
    "Applying an operation to entire array is easy and looks exactly how it would in normal mathematical notation. These operations are not so trivial with python lists."
   ]
  },
  {
   "cell_type": "code",
   "execution_count": null,
   "metadata": {},
   "outputs": [],
   "source": [
    "# multiply each element by 5\n",
    "array * 5"
   ]
  },
  {
   "cell_type": "code",
   "execution_count": null,
   "metadata": {},
   "outputs": [],
   "source": [
    "# take 3\n",
    "array - 3"
   ]
  },
  {
   "cell_type": "code",
   "execution_count": null,
   "metadata": {},
   "outputs": [],
   "source": [
    "array + array"
   ]
  },
  {
   "cell_type": "code",
   "execution_count": null,
   "metadata": {},
   "outputs": [],
   "source": [
    "array + (5 * (array - 1))"
   ]
  },
  {
   "cell_type": "markdown",
   "metadata": {},
   "source": [
    "# Vectorized Operations\n",
    "NumPy is blazingly fast by Python standards. It is fast because it executes its code in pre-compiled C and Fortran that is highly optimized for scientific computing."
   ]
  },
  {
   "cell_type": "code",
   "execution_count": null,
   "metadata": {},
   "outputs": [],
   "source": [
    "# grab the first row\n",
    "row = array[:, 0]\n",
    "some_list = list(row)\n",
    "# print(type(some_list))  # Note that we're dealing with a regular Python list of numbers here"
   ]
  },
  {
   "cell_type": "code",
   "execution_count": null,
   "metadata": {},
   "outputs": [],
   "source": [
    "print([x + 1 for x in some_list])"
   ]
  },
  {
   "cell_type": "code",
   "execution_count": null,
   "metadata": {},
   "outputs": [],
   "source": [
    "%timeit [x + 1 for x in some_list]"
   ]
  },
  {
   "cell_type": "code",
   "execution_count": null,
   "metadata": {},
   "outputs": [],
   "source": [
    "%timeit row + 1"
   ]
  },
  {
   "cell_type": "markdown",
   "metadata": {},
   "source": [
    "# Applying functions\n",
    "\n",
    "Its easy to apply NumPy functions to all the values. These are referred to as *universal functions* that act on each element of an array, producing an array in return without the need for an explicit loop."
   ]
  },
  {
   "cell_type": "code",
   "execution_count": null,
   "metadata": {},
   "outputs": [],
   "source": [
    "# absolute value\n",
    "np.abs(array)"
   ]
  },
  {
   "cell_type": "code",
   "execution_count": null,
   "metadata": {},
   "outputs": [],
   "source": [
    "np.sqrt(np.abs(array)).round(2)"
   ]
  },
  {
   "cell_type": "code",
   "execution_count": null,
   "metadata": {},
   "outputs": [],
   "source": [
    "# sum all elements in the array\n",
    "array.sum()"
   ]
  },
  {
   "cell_type": "code",
   "execution_count": null,
   "metadata": {},
   "outputs": [],
   "source": [
    "# Same as calling the numpy function on the array\n",
    "np.sum(array)\n",
    "# Note that some operations are available as numpy functions, others as methods on the array.\n",
    "# In general, the syntax np.<function>(<array>) should cover us in most situations."
   ]
  },
  {
   "cell_type": "code",
   "execution_count": null,
   "metadata": {},
   "outputs": [],
   "source": [
    "# sum along rows with axis parameter\n",
    "# Note - summing 'along' rows gives us the same no. of results as the no. of rows\n",
    "array.sum(axis=1)"
   ]
  },
  {
   "cell_type": "code",
   "execution_count": null,
   "metadata": {},
   "outputs": [],
   "source": [
    "# sum along columns\n",
    "# Note - summing 'along' columns gives us the same no. of results as the no. of columns\n",
    "array.sum(axis=0)"
   ]
  },
  {
   "cell_type": "code",
   "execution_count": null,
   "metadata": {},
   "outputs": [],
   "source": [
    "# find max of each column\n",
    "array.max(axis=0)"
   ]
  },
  {
   "cell_type": "markdown",
   "metadata": {},
   "source": [
    "# Comparison operators\n",
    "The 6 comparison operators <, >, <=, >=, ==, != work on all elements of the array."
   ]
  },
  {
   "cell_type": "code",
   "execution_count": null,
   "metadata": {},
   "outputs": [],
   "source": [
    "array > 0"
   ]
  },
  {
   "cell_type": "code",
   "execution_count": null,
   "metadata": {},
   "outputs": [],
   "source": [
    "# Boolean Indexing\n",
    "# find out how many values are greater than 0\n",
    "np.sum(array > 0)"
   ]
  },
  {
   "cell_type": "code",
   "execution_count": null,
   "metadata": {},
   "outputs": [],
   "source": [
    "# find percentage of values greater than 0\n",
    "np.mean(array > 0)"
   ]
  },
  {
   "cell_type": "code",
   "execution_count": null,
   "metadata": {},
   "outputs": [],
   "source": [
    "# find how many are between -2 and 2\n",
    "(array > -2) & (array < 2)"
   ]
  },
  {
   "cell_type": "code",
   "execution_count": null,
   "metadata": {},
   "outputs": [],
   "source": [
    "# this should be about 95%\n",
    "((array > -2) & (array < 2)).mean()"
   ]
  },
  {
   "cell_type": "markdown",
   "metadata": {},
   "source": [
    "# Common matrix Operations"
   ]
  },
  {
   "cell_type": "code",
   "execution_count": null,
   "metadata": {},
   "outputs": [],
   "source": [
    "import numpy as np\n",
    "\n",
    "# A 2x3 matrix\n",
    "a = np.random.randn(2, 3)\n",
    "\n",
    "# A 2x3 matrix\n",
    "b = np.random.randn(2, 3)\n",
    "\n",
    "# Multiply two ndarrays element-wise\n",
    "print(a * b)\n",
    "\n",
    "# Get the transpose of a matrix\n",
    "print(a.T)\n",
    "\n",
    "# Multipy two 2d Matrices using Matrix Multiplication\n",
    "print(a.T @ b)\n",
    "\n",
    "# Or use A.dot(B) for matrix multiplication\n",
    "print(a.T.dot(b))\n",
    "\n",
    "# Other Linear Algebra Operations\n",
    "\n",
    "# Matrix inverse\n",
    "from numpy.linalg import inv\n",
    "c = np.random.rand(3, 3)\n",
    "print(inv(c))"
   ]
  },
  {
   "cell_type": "markdown",
   "metadata": {},
   "source": [
    "[Link](https://docs.scipy.org/doc/numpy/reference/routines.linalg.html) to other Linear Algebra Operations"
   ]
  },
  {
   "cell_type": "markdown",
   "metadata": {},
   "source": [
    "### Exercise 4\n",
    "\n",
    "Given `n`, create two `n x n` matrices `A` and `B` of random values and verify the following mathematical identities:\n",
    "\n",
    "$$\n",
    "    (A + B)^{T} = A^{T} + B^{T}\n",
    "$$\n",
    "$$\n",
    "    (AB)^{T} = B^{T}A^{T}\n",
    "$$\n",
    "\n",
    "Numpy Functions that might come in handy here are `np.random.randn`, `np.dot` and `np.allclose`. Also, remember that ndarrays have a `transpose()` *method*, or a `T` *property* that returns the transpose.\n",
    "\n",
    "(https://numpy.org/doc/1.19/)"
   ]
  },
  {
   "cell_type": "code",
   "execution_count": null,
   "metadata": {},
   "outputs": [],
   "source": [
    "# ----------------------- #\n",
    "# COMPLETE THIS CODE\n",
    "# ----------------------- #"
   ]
  },
  {
   "cell_type": "markdown",
   "metadata": {},
   "source": [
    "### Exercise 5\n",
    "\n",
    "Write a one-line statement that returns `True` if an array is a monotonically increasing sequence, or `False` otherwise.\n",
    "\n",
    "*Hints*:\n",
    "\n",
    "`np.all(a)` determines whether *all* array elements of `a` evaluate to `True`. For example:\n",
    "\n",
    "```\n",
    "np.all([True, True, False, True])\n",
    ">>> False\n",
    "```\n",
    "\n",
    "`np.any(a)` determines whether *any* array element of `a` evaluates to `True`'. For example:\n",
    "```\n",
    "np.any([True, True, False, True])\n",
    ">>> True\n",
    "```\n",
    "\n",
    "`np.diff` returns the *difference* between consecutive elements of a sequence. For example:\n",
    "\n",
    "```\n",
    "np.diff([1,2,3,3,2])\n",
    ">>> array([1, 1, 0, -1])\n",
    "```\n",
    "\n",
    "(https://numpy.org/doc/1.19/)"
   ]
  },
  {
   "cell_type": "code",
   "execution_count": null,
   "metadata": {},
   "outputs": [],
   "source": [
    "a = np.array([1, 1.3, 2.6, 2.8, 2.3, 3.9, 4.1, 5])\n",
    "\n",
    "# ----------------------- #\n",
    "# COMPLETE THIS CODE\n",
    "# ----------------------- #"
   ]
  }
 ],
 "metadata": {
  "kernelspec": {
   "display_name": "Python 3",
   "language": "python",
   "name": "python3"
  },
  "language_info": {
   "codemirror_mode": {
    "name": "ipython",
    "version": 3
   },
   "file_extension": ".py",
   "mimetype": "text/x-python",
   "name": "python",
   "nbconvert_exporter": "python",
   "pygments_lexer": "ipython3",
   "version": "3.7.9"
  }
 },
 "nbformat": 4,
 "nbformat_minor": 2
}

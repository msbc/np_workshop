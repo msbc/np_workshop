{
 "cells": [
  {
   "cell_type": "code",
   "execution_count": null,
   "metadata": {},
   "outputs": [],
   "source": [
    "import numpy as np\n",
    "print(np.__version__)"
   ]
  },
  {
   "cell_type": "markdown",
   "metadata": {},
   "source": [
    "# Operations on the entire array\n",
    "Applying an operation to entire array is easy and looks exactly how it would in normal mathematical notation. These operations are not so trivial with python lists."
   ]
  },
  {
   "cell_type": "code",
   "execution_count": null,
   "metadata": {},
   "outputs": [],
   "source": [
    "array = np.arange(20).reshape(5, 4)\n",
    "print(array)"
   ]
  },
  {
   "cell_type": "code",
   "execution_count": null,
   "metadata": {},
   "outputs": [],
   "source": [
    "# multiply each element by 5\n",
    "array * 5"
   ]
  },
  {
   "cell_type": "code",
   "execution_count": null,
   "metadata": {},
   "outputs": [],
   "source": [
    "# take 3\n",
    "array - 3"
   ]
  },
  {
   "cell_type": "code",
   "execution_count": null,
   "metadata": {},
   "outputs": [],
   "source": [
    "array + array"
   ]
  },
  {
   "cell_type": "code",
   "execution_count": null,
   "metadata": {},
   "outputs": [],
   "source": [
    "array + (5 * (array - 1))"
   ]
  },
  {
   "cell_type": "markdown",
   "metadata": {},
   "source": [
    "# Vectorized Operations\n",
    "NumPy is blazingly fast by Python standards. It is fast because it executes its code in pre-compiled C and Fortran that is highly optimized for scientific computing."
   ]
  },
  {
   "cell_type": "code",
   "execution_count": null,
   "metadata": {},
   "outputs": [],
   "source": [
    "# Create a big array so we can see the RoI\n",
    "array1d = np.random.random(100_000)\n",
    "some_list = array1d.tolist()\n",
    "print(type(some_list))  # Note that we're dealing with a regular Python list of numbers here"
   ]
  },
  {
   "cell_type": "code",
   "execution_count": null,
   "metadata": {},
   "outputs": [],
   "source": [
    "%timeit [x + 1 for x in some_list]"
   ]
  },
  {
   "cell_type": "code",
   "execution_count": null,
   "metadata": {},
   "outputs": [],
   "source": [
    "%timeit array1d + 1"
   ]
  },
  {
   "cell_type": "markdown",
   "metadata": {},
   "source": [
    "# NumPy \"aggregator\" functions\n",
    "\n",
    "In addition to functions that act in a vectorized way (elementwise) on arrays, NumPy also has a suite of utility functions that return a single scalar summarizing some sort of information across *all* the elements in an array.\n",
    "\n",
    "Here is a non-exhaustive but useful list:\n",
    "\n",
    "```python\n",
    "np.min;           # Return the smallest element in an array\n",
    "np.max;           # Return the largest element in an array\n",
    "np.argmin;        # Return the index of the smallest element in an array\n",
    "np.argmax;        # Return the index of the largest element in an array\n",
    "\n",
    "np.sum;           # Sum of all the elements of an array\n",
    "np.prod;          # Product of all the elements of an array\n",
    "\n",
    "# These don't return a single scalar, rather a running list of intermediate scalars.  See the examples...\n",
    "np.cumsum;        # \"Running\" sum of elements of an array\n",
    "np.cumprod;       # \"Running\" product of elements of an array\n",
    "\n",
    "\n",
    "np.mean;          # Compute the mean of an array in an array\n",
    "np.median;        # Compute the median of an array in an array\n",
    "np.std;           # Compute the standard deviation of an array\n",
    "np.var;           # Compute the variance (sd^2) of an array\n",
    "\n",
    "np.percentile;    # Compute the xth percentile of an array.\n",
    "```\n",
    "\n",
    "These are best illustrated by example:"
   ]
  },
  {
   "cell_type": "code",
   "execution_count": null,
   "metadata": {},
   "outputs": [],
   "source": [
    "myarr = np.array([20, 21, 22, 23, 24, 25, 26, 27, 28, 29, 30])\n",
    "\n",
    "print(\"Avg  =\", np.mean(myarr))\n",
    "print(\"Sum  =\", np.sum(myarr))"
   ]
  },
  {
   "cell_type": "code",
   "execution_count": null,
   "metadata": {},
   "outputs": [],
   "source": [
    "# These aggregator functions can also be run as \"methods\" on the array using the dot notation\n",
    "print(\"Avg  =\", myarr.mean())\n",
    "print(\"Sum  =\", myarr.sum())\n",
    "\n",
    "# In general, the syntax np.<function>(<array>) should cover us in most situations."
   ]
  },
  {
   "cell_type": "code",
   "execution_count": null,
   "metadata": {},
   "outputs": [],
   "source": [
    "myarr2 = np.arange(20).reshape(5, 4)\n",
    "myarr2"
   ]
  },
  {
   "cell_type": "code",
   "execution_count": null,
   "metadata": {},
   "outputs": [],
   "source": [
    "# sum along axis 0\n",
    "myarr2.sum(axis=0)"
   ]
  },
  {
   "cell_type": "code",
   "execution_count": null,
   "metadata": {},
   "outputs": [],
   "source": [
    "# sum along axis 1\n",
    "myarr2.sum(axis=1)"
   ]
  },
  {
   "cell_type": "code",
   "execution_count": null,
   "metadata": {},
   "outputs": [],
   "source": [
    "# find max of each column\n",
    "myarr2.max(axis=0)"
   ]
  },
  {
   "cell_type": "markdown",
   "metadata": {},
   "source": [
    "# Boolean Indexing\n",
    "The 6 comparison operators <, >, <=, >=, ==, != work on all elements of the array, returning us a boolean array (commonly called a *mask*)."
   ]
  },
  {
   "cell_type": "code",
   "execution_count": null,
   "metadata": {},
   "outputs": [],
   "source": [
    "np.random.seed(123)\n",
    "array = np.random.randn(10, 5)\n",
    "array = array.round(2)\n",
    "array"
   ]
  },
  {
   "cell_type": "code",
   "execution_count": null,
   "metadata": {},
   "outputs": [],
   "source": [
    "array > 0"
   ]
  },
  {
   "cell_type": "markdown",
   "metadata": {},
   "source": [
    "If you slice or index an array X with an array of booleans that matches the shape along that axis or slice, it will return only the elements where the boolean array is True.  THIS WILL BE A COPY!"
   ]
  },
  {
   "cell_type": "code",
   "execution_count": null,
   "metadata": {},
   "outputs": [],
   "source": [
    "# Boolean Indexing\n",
    "# find out values that are greater than 0\n",
    "b = array[array > 0]\n",
    "\n",
    "# Note that array will be unchanged\n",
    "b[:] = 0\n",
    "print(array)"
   ]
  },
  {
   "cell_type": "code",
   "execution_count": null,
   "metadata": {},
   "outputs": [],
   "source": [
    "# find out how many values are greater than 0\n",
    "np.sum(array > 0)"
   ]
  },
  {
   "cell_type": "code",
   "execution_count": null,
   "metadata": {},
   "outputs": [],
   "source": [
    "# find percentage of values greater than 0\n",
    "np.mean(array > 0)"
   ]
  },
  {
   "cell_type": "code",
   "execution_count": null,
   "metadata": {},
   "outputs": [],
   "source": [
    "# find how many are between -2 and 2\n",
    "(array > -2) & (array < 2)"
   ]
  },
  {
   "cell_type": "code",
   "execution_count": null,
   "metadata": {},
   "outputs": [],
   "source": [
    "# this should be about 95%\n",
    "((array > -2) & (array < 2)).mean()"
   ]
  },
  {
   "cell_type": "markdown",
   "metadata": {},
   "source": [
    "# Common matrix Operations"
   ]
  },
  {
   "cell_type": "code",
   "execution_count": null,
   "metadata": {},
   "outputs": [],
   "source": [
    "import numpy as np\n",
    "\n",
    "# A 2x3 matrix\n",
    "a = np.random.randn(2, 3)\n",
    "\n",
    "# A 2x3 matrix\n",
    "b = np.random.randn(2, 3)\n",
    "\n",
    "# Multiply two ndarrays element-wise\n",
    "print(a * b)\n",
    "\n",
    "# Get the transpose of a matrix\n",
    "print(a.T)\n",
    "\n",
    "# Multipy two 2d Matrices using Matrix Multiplication\n",
    "print(a.T @ b)\n",
    "\n",
    "# Or use A.dot(B) for matrix multiplication\n",
    "print(a.T.dot(b))\n",
    "\n",
    "# Other Linear Algebra Operations\n",
    "\n",
    "# Matrix inverse\n",
    "from numpy.linalg import inv\n",
    "c = np.random.rand(3, 3)\n",
    "print(inv(c))"
   ]
  },
  {
   "cell_type": "markdown",
   "metadata": {},
   "source": [
    "### Exercise 1\n",
    "\n",
    "Given n, create a n x n matrix `M` of random values between 0 and 1. Multiply it by an Identity Matrix and verify that the result is unchanged from `M`.\n",
    "\n",
    "$$\n",
    "    M * I = M\n",
    "$$\n",
    "\n",
    "Numpy Functions that might come in handy here are `np.random.random`, `np.dot`, `np.eye` and `np.allclose`.\n",
    "\n",
    "(https://numpy.org/doc/1.19/)"
   ]
  },
  {
   "cell_type": "code",
   "execution_count": null,
   "metadata": {},
   "outputs": [],
   "source": [
    "# ----------------------- #\n",
    "# COMPLETE THIS CODE\n",
    "# ----------------------- #"
   ]
  },
  {
   "cell_type": "markdown",
   "metadata": {},
   "source": [
    "### Exercise 2 (if time permits)\n",
    "\n",
    "Write a one-line statement that returns `True` if an array is a monotonically increasing sequence, or `False` otherwise.\n",
    "\n",
    "*Hints*:\n",
    "\n",
    "`np.all(a)` determines whether *all* array elements of `a` evaluate to `True`. For example:\n",
    "\n",
    "```\n",
    "np.all([True, True, False, True])\n",
    ">>> False\n",
    "```\n",
    "\n",
    "`np.any(a)` determines whether *any* array element of `a` evaluates to `True`'. For example:\n",
    "```\n",
    "np.any([True, True, False, True])\n",
    ">>> True\n",
    "```\n",
    "\n",
    "`np.diff` returns the *difference* between consecutive elements of a sequence. For example:\n",
    "\n",
    "```\n",
    "np.diff([1,2,3,3,2])\n",
    ">>> array([1, 1, 0, -1])\n",
    "```\n",
    "\n",
    "(https://numpy.org/doc/1.19/)"
   ]
  },
  {
   "cell_type": "code",
   "execution_count": null,
   "metadata": {},
   "outputs": [],
   "source": [
    "a = np.array([1, 1.3, 2.6, 2.8, 2.3, 3.9, 4.1, 5])\n",
    "\n",
    "# ----------------------- #\n",
    "# COMPLETE THIS CODE\n",
    "# ----------------------- #"
   ]
  },
  {
   "cell_type": "markdown",
   "metadata": {},
   "source": [
    "### Exercise 3 (if time permits)\n",
    "\n",
    "Find all the peaks in a 1D numpy array of length 100. Peaks are points surrounded by smaller values on both sides. Generate your 1D array using the `np.random.random` function, after setting the numpy **random seed** to `1234`."
   ]
  },
  {
   "cell_type": "code",
   "execution_count": null,
   "metadata": {},
   "outputs": [],
   "source": [
    "np.random.seed(1234)\n",
    "\n",
    "# ----------------------- #\n",
    "# COMPLETE THIS CODE\n",
    "# ----------------------- #"
   ]
  }
 ],
 "metadata": {
  "kernelspec": {
   "display_name": "Python 3",
   "language": "python",
   "name": "python3"
  },
  "language_info": {
   "codemirror_mode": {
    "name": "ipython",
    "version": 3
   },
   "file_extension": ".py",
   "mimetype": "text/x-python",
   "name": "python",
   "nbconvert_exporter": "python",
   "pygments_lexer": "ipython3",
   "version": "3.8.2"
  }
 },
 "nbformat": 4,
 "nbformat_minor": 2
}

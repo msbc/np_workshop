{
 "cells": [
  {
   "cell_type": "code",
   "execution_count": null,
   "metadata": {},
   "outputs": [],
   "source": [
    "import numpy as np\n",
    "print(np.__version__)"
   ]
  },
  {
   "cell_type": "markdown",
   "metadata": {},
   "source": [
    "# Operations on the entire array\n",
    "Applying an operation to entire array is easy and looks exactly how it would in normal mathematical notation. These operations are not so trivial with python lists."
   ]
  },
  {
   "cell_type": "code",
   "execution_count": null,
   "metadata": {},
   "outputs": [],
   "source": [
    "array = np.arange(20).reshape(5, 4)\n",
    "print(array)"
   ]
  },
  {
   "cell_type": "code",
   "execution_count": null,
   "metadata": {},
   "outputs": [],
   "source": [
    "# multiply each element by 5\n",
    "array * 5"
   ]
  },
  {
   "cell_type": "code",
   "execution_count": null,
   "metadata": {},
   "outputs": [],
   "source": [
    "# take 3\n",
    "array - 3"
   ]
  },
  {
   "cell_type": "code",
   "execution_count": null,
   "metadata": {},
   "outputs": [],
   "source": [
    "array + array"
   ]
  },
  {
   "cell_type": "code",
   "execution_count": null,
   "metadata": {},
   "outputs": [],
   "source": [
    "array + (5 * (array - 1))"
   ]
  },
  {
   "cell_type": "markdown",
   "metadata": {},
   "source": [
    "# Vectorized Operations\n",
    "NumPy is blazingly fast by Python standards. It is fast because it executes its code in pre-compiled C and Fortran that is highly optimized for scientific computing."
   ]
  },
  {
   "cell_type": "code",
   "execution_count": null,
   "metadata": {},
   "outputs": [],
   "source": [
    "# Create a big array so we can see the RoI\n",
    "array1d = np.random.random(100_000)\n",
    "some_list = array.tolist()\n",
    "# print(type(some_list))  # Note that we're dealing with a regular Python list of numbers here"
   ]
  },
  {
   "cell_type": "code",
   "execution_count": null,
   "metadata": {},
   "outputs": [],
   "source": [
    "%timeit [x + 1 for x in some_list]"
   ]
  },
  {
   "cell_type": "code",
   "execution_count": null,
   "metadata": {},
   "outputs": [],
   "source": [
    "%timeit array1d + 1"
   ]
  },
  {
   "cell_type": "markdown",
   "metadata": {},
   "source": [
    "# Applying functions\n",
    "\n",
    "Its easy to apply NumPy functions to all the values. These are referred to as *universal functions* that act on each element of an array, producing an array in return without the need for an explicit loop."
   ]
  },
  {
   "cell_type": "code",
   "execution_count": null,
   "metadata": {},
   "outputs": [],
   "source": [
    "# absolute value\n",
    "np.abs(array)"
   ]
  },
  {
   "cell_type": "code",
   "execution_count": null,
   "metadata": {},
   "outputs": [],
   "source": [
    "np.sqrt(np.abs(array)).round(2)"
   ]
  },
  {
   "cell_type": "code",
   "execution_count": null,
   "metadata": {},
   "outputs": [],
   "source": [
    "# sum all elements in the array\n",
    "array.sum()"
   ]
  },
  {
   "cell_type": "code",
   "execution_count": null,
   "metadata": {},
   "outputs": [],
   "source": [
    "# Same as calling the numpy function on the array\n",
    "np.sum(array)\n",
    "# Note that some operations are available as numpy functions, others as methods on the array.\n",
    "# In general, the syntax np.<function>(<array>) should cover us in most situations."
   ]
  },
  {
   "cell_type": "code",
   "execution_count": null,
   "metadata": {},
   "outputs": [],
   "source": [
    "# sum along rows with axis parameter\n",
    "# Note - summing 'along' rows gives us the same no. of results as the no. of rows\n",
    "array.sum(axis=1)"
   ]
  },
  {
   "cell_type": "code",
   "execution_count": null,
   "metadata": {},
   "outputs": [],
   "source": [
    "# sum along columns\n",
    "# Note - summing 'along' columns gives us the same no. of results as the no. of columns\n",
    "array.sum(axis=0)"
   ]
  },
  {
   "cell_type": "code",
   "execution_count": null,
   "metadata": {},
   "outputs": [],
   "source": [
    "# find max of each column\n",
    "array.max(axis=0)"
   ]
  },
  {
   "cell_type": "markdown",
   "metadata": {},
   "source": [
    "# Boolean Indexing\n",
    "The 6 comparison operators <, >, <=, >=, ==, != work on all elements of the array, returning us a boolean array (commonly called a *mask*)."
   ]
  },
  {
   "cell_type": "code",
   "execution_count": null,
   "metadata": {},
   "outputs": [],
   "source": [
    "np.random.seed(123)\n",
    "array = np.random.randn(10, 5)\n",
    "array = array.round(2)\n",
    "array"
   ]
  },
  {
   "cell_type": "code",
   "execution_count": null,
   "metadata": {},
   "outputs": [],
   "source": [
    "array > 0"
   ]
  },
  {
   "cell_type": "markdown",
   "metadata": {},
   "source": [
    "If you slice or index an array X with an array of booleans that matches the shape along that axis or slice, it will return only the elements where the boolean array is True.  THIS WILL BE A COPY!"
   ]
  },
  {
   "cell_type": "code",
   "execution_count": null,
   "metadata": {},
   "outputs": [],
   "source": [
    "# Boolean Indexing\n",
    "# find out values that are greater than 0\n",
    "b = array[array > 0]\n",
    "\n",
    "# Note that array will be unchanged\n",
    "b[:] = 0\n",
    "print(array)"
   ]
  },
  {
   "cell_type": "code",
   "execution_count": null,
   "metadata": {},
   "outputs": [],
   "source": [
    "# find out how many values are greater than 0\n",
    "np.sum(array > 0)"
   ]
  },
  {
   "cell_type": "code",
   "execution_count": null,
   "metadata": {},
   "outputs": [],
   "source": [
    "# find percentage of values greater than 0\n",
    "np.mean(array > 0)"
   ]
  },
  {
   "cell_type": "code",
   "execution_count": null,
   "metadata": {},
   "outputs": [],
   "source": [
    "# find how many are between -2 and 2\n",
    "(array > -2) & (array < 2)"
   ]
  },
  {
   "cell_type": "code",
   "execution_count": null,
   "metadata": {},
   "outputs": [],
   "source": [
    "# this should be about 95%\n",
    "((array > -2) & (array < 2)).mean()"
   ]
  },
  {
   "cell_type": "markdown",
   "metadata": {},
   "source": [
    "# Common matrix Operations"
   ]
  },
  {
   "cell_type": "code",
   "execution_count": null,
   "metadata": {},
   "outputs": [],
   "source": [
    "import numpy as np\n",
    "\n",
    "# A 2x3 matrix\n",
    "a = np.random.randn(2, 3)\n",
    "\n",
    "# A 2x3 matrix\n",
    "b = np.random.randn(2, 3)\n",
    "\n",
    "# Multiply two ndarrays element-wise\n",
    "print(a * b)\n",
    "\n",
    "# Get the transpose of a matrix\n",
    "print(a.T)\n",
    "\n",
    "# Multipy two 2d Matrices using Matrix Multiplication\n",
    "print(a.T @ b)\n",
    "\n",
    "# Or use A.dot(B) for matrix multiplication\n",
    "print(a.T.dot(b))\n",
    "\n",
    "# Other Linear Algebra Operations\n",
    "\n",
    "# Matrix inverse\n",
    "from numpy.linalg import inv\n",
    "c = np.random.rand(3, 3)\n",
    "print(inv(c))"
   ]
  },
  {
   "cell_type": "markdown",
   "metadata": {},
   "source": [
    "### Exercise 1\n",
    "\n",
    "Given `n`, create two `n x n` matrices `A` and `B` of random values and verify the following mathematical identities:\n",
    "\n",
    "$$\n",
    "    (A + B)^{T} = A^{T} + B^{T}\n",
    "$$\n",
    "$$\n",
    "    (AB)^{T} = B^{T}A^{T}\n",
    "$$\n",
    "\n",
    "Numpy Functions that might come in handy here are `np.random.randn`, `np.dot` and `np.allclose`. Also, remember that ndarrays have a `transpose()` *method*, or a `T` *property* that returns the transpose.\n",
    "\n",
    "(https://numpy.org/doc/1.19/)"
   ]
  },
  {
   "cell_type": "code",
   "execution_count": null,
   "metadata": {},
   "outputs": [],
   "source": [
    "# ----------------------- #\n",
    "# COMPLETE THIS CODE\n",
    "# ----------------------- #"
   ]
  },
  {
   "cell_type": "markdown",
   "metadata": {},
   "source": [
    "### Exercise 2\n",
    "\n",
    "Write a one-line statement that returns `True` if an array is a monotonically increasing sequence, or `False` otherwise.\n",
    "\n",
    "*Hints*:\n",
    "\n",
    "`np.all(a)` determines whether *all* array elements of `a` evaluate to `True`. For example:\n",
    "\n",
    "```\n",
    "np.all([True, True, False, True])\n",
    ">>> False\n",
    "```\n",
    "\n",
    "`np.any(a)` determines whether *any* array element of `a` evaluates to `True`'. For example:\n",
    "```\n",
    "np.any([True, True, False, True])\n",
    ">>> True\n",
    "```\n",
    "\n",
    "`np.diff` returns the *difference* between consecutive elements of a sequence. For example:\n",
    "\n",
    "```\n",
    "np.diff([1,2,3,3,2])\n",
    ">>> array([1, 1, 0, -1])\n",
    "```\n",
    "\n",
    "(https://numpy.org/doc/1.19/)"
   ]
  },
  {
   "cell_type": "code",
   "execution_count": null,
   "metadata": {},
   "outputs": [],
   "source": [
    "a = np.array([1, 1.3, 2.6, 2.8, 2.3, 3.9, 4.1, 5])\n",
    "\n",
    "# ----------------------- #\n",
    "# COMPLETE THIS CODE\n",
    "# ----------------------- #"
   ]
  }
 ],
 "metadata": {
  "kernelspec": {
   "display_name": "Python 3",
   "language": "python",
   "name": "python3"
  },
  "language_info": {
   "codemirror_mode": {
    "name": "ipython",
    "version": 3
   },
   "file_extension": ".py",
   "mimetype": "text/x-python",
   "name": "python",
   "nbconvert_exporter": "python",
   "pygments_lexer": "ipython3",
   "version": "3.7.9"
  }
 },
 "nbformat": 4,
 "nbformat_minor": 2
}

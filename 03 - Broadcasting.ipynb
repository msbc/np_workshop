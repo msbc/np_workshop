{
 "cells": [
  {
   "cell_type": "code",
   "execution_count": 2,
   "metadata": {},
   "outputs": [],
   "source": [
    "import numpy as np"
   ]
  },
  {
   "cell_type": "markdown",
   "metadata": {},
   "source": [
    "We want our code to be as expressive as possible, and avoid loops at all cost!\n",
    "\n",
    "**Broadcasting** in NumPy follows a strict set of rules to determine the interaction between two arrays. In simple cases, it closely follows our intuitions.\n",
    "\n",
    "- 1: If the two arrays differ in their number of dimensions, the shape of the one with fewer dimensions is padded with ones on its leading (left) side.\n",
    "- 2: If the shape of the two arrays does not match in any dimension, the array with shape equal to 1 in that dimension is stretched to match the other shape.\n",
    "- 3: If in any dimension the sizes disagree and neither is equal to 1, an error is raised."
   ]
  },
  {
   "cell_type": "code",
   "execution_count": 9,
   "metadata": {},
   "outputs": [
    {
     "data": {
      "text/plain": [
       "array([5, 6, 7])"
      ]
     },
     "execution_count": 9,
     "metadata": {},
     "output_type": "execute_result"
    }
   ],
   "source": [
    "np.arange(3) + 5"
   ]
  },
  {
   "cell_type": "markdown",
   "metadata": {},
   "source": [
    "![broadcasting1](images/broadcasting1.png)\n",
    "\n",
    "Sequence of changes:\n",
    "\n",
    "- (3,) + ()    <- Original shapes\n",
    "- (3,) + (1,)  <- As per rule 1 (add leading dimension to 2nd array)\n",
    "- (3,) + (3,)  <- As per rule 2 (stretch 2nd array on axis 0)\n",
    "- (3,)         <- Final shape of output"
   ]
  },
  {
   "cell_type": "code",
   "execution_count": 6,
   "metadata": {},
   "outputs": [
    {
     "data": {
      "text/plain": [
       "array([[1., 2., 3.],\n",
       "       [1., 2., 3.],\n",
       "       [1., 2., 3.]])"
      ]
     },
     "execution_count": 6,
     "metadata": {},
     "output_type": "execute_result"
    }
   ],
   "source": [
    "np.ones((3,3)) + np.arange(3)"
   ]
  },
  {
   "cell_type": "markdown",
   "metadata": {},
   "source": [
    "![broadcasting2](images/broadcasting2.png)\n",
    "\n",
    "Sequence of changes:\n",
    "\n",
    "- (3,3) + (3,)   <- Original shapes\n",
    "- (3,3) + (1,3)  <- As per rule 1 (add leading dimension to 2nd array)\n",
    "- (3,3) + (3,3)  <- As per rule 2 (stretch 2nd array on axis 0)\n",
    "- (3,3)          <- Final shape of output"
   ]
  },
  {
   "cell_type": "code",
   "execution_count": 8,
   "metadata": {},
   "outputs": [
    {
     "data": {
      "text/plain": [
       "array([[0, 1, 2],\n",
       "       [1, 2, 3],\n",
       "       [2, 3, 4]])"
      ]
     },
     "execution_count": 8,
     "metadata": {},
     "output_type": "execute_result"
    }
   ],
   "source": [
    "np.arange(3).reshape((3,1)) + np.arange(3)"
   ]
  },
  {
   "cell_type": "markdown",
   "metadata": {},
   "source": [
    "![broadcasting3](images/broadcasting3.png)\n",
    "\n",
    "Sequence of changes:\n",
    "\n",
    "- (3,1) + (3,)   <- Original shapes\n",
    "- (3,1) + (1,3)  <- As per rule 1 (add leading dimension to 2nd array)\n",
    "- (3,3) + (1,3)  <- As per rule 2 (stretch 1st array on axis 1)\n",
    "- (3,3) + (3,3)  <- As per rule 2 (stretch 2nd array on axis 0)"
   ]
  }
 ],
 "metadata": {
  "kernelspec": {
   "display_name": "Python 3",
   "language": "python",
   "name": "python3"
  },
  "language_info": {
   "codemirror_mode": {
    "name": "ipython",
    "version": 3
   },
   "file_extension": ".py",
   "mimetype": "text/x-python",
   "name": "python",
   "nbconvert_exporter": "python",
   "pygments_lexer": "ipython3",
   "version": "3.7.9"
  }
 },
 "nbformat": 4,
 "nbformat_minor": 4
}

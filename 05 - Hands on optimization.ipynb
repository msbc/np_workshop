{
 "cells": [
  {
   "cell_type": "code",
   "execution_count": null,
   "metadata": {},
   "outputs": [],
   "source": [
    "import numpy as np"
   ]
  },
  {
   "cell_type": "markdown",
   "metadata": {},
   "source": [
    "This notebook is focused on changing from programing from an element-wise approach to a vectorized approach, which is more efficient and faster when using NumPy.\n",
    "\n",
    "The two easiest ways to optimize your code is to avoid (`for`, `while`, ...) loops and `if` statements when handling NumPy arrays. Instead, you should use vectorized operations."
   ]
  },
  {
   "cell_type": "markdown",
   "metadata": {},
   "source": [
    "# Getting rid of if statements\n",
    "\n",
    "If statements are not vectorized, so they are not efficient when working with NumPy arrays. Let's see an example of how to get rid of if statements."
   ]
  },
  {
   "cell_type": "code",
   "execution_count": null,
   "metadata": {},
   "outputs": [],
   "source": [
    "a = np.random.randn(10)\n",
    "print(f\"a: {a}\")\n",
    "\n",
    "# What if we want to set all negative values to 0?\n",
    "b = np.empty_like(a)\n",
    "for i in range(len(a)):\n",
    "    if a[i] < 0:\n",
    "        b[i] = 0\n",
    "    else:\n",
    "        b[i] = a[i]\n",
    "\n",
    "# Apply element-wise maximum between a and 0 (usses broadcasting)\n",
    "c = np.maximum(a, 0)  # This is much faster and more readable\n",
    "\n",
    "# Masking\n",
    "d = a.copy()\n",
    "d[d < 0] = 0\n",
    "\n",
    "# Masking with boolean array\n",
    "e = a.copy()\n",
    "mask = a < 0\n",
    "e[mask] = 0\n",
    "\n",
    "print(np.all(b == c) and np.all(c == d) and np.all(d == e))"
   ]
  },
  {
   "cell_type": "markdown",
   "metadata": {},
   "source": [
    "Let's say we know how to write the element-wise version of what we want to do, which is the below `elementwise_func` function. How can we change it to a vectorized version?"
   ]
  },
  {
   "cell_type": "code",
   "execution_count": null,
   "metadata": {},
   "outputs": [],
   "source": [
    "def elementwise_func(x):\n",
    "    if x > 1:\n",
    "        return np.log(x) + 1\n",
    "    elif x > -1:\n",
    "        return np.sign(x) * np.sqrt(np.abs(x))\n",
    "    else:\n",
    "        return - x**2"
   ]
  },
  {
   "cell_type": "markdown",
   "metadata": {},
   "source": [
    "If you're a visual learner/thinker, we can also plot this function to see what it does."
   ]
  },
  {
   "cell_type": "code",
   "execution_count": null,
   "metadata": {},
   "outputs": [],
   "source": [
    "# Import plotting libraries\n",
    "import matplotlib as mpl\n",
    "import matplotlib.pyplot as plt\n",
    "\n",
    "# Generate x values\n",
    "x = np.linspace(-2, 2, 1000)\n",
    "# Apply the function elementwise (not vectorized)\n",
    "y = np.array([elementwise_func(xi) for xi in x])\n",
    "\n",
    "# Plot the function\n",
    "plt.figure(dpi=150)  # Set the resolution of the figure\n",
    "plt.subplot(aspect=\"equal\")  # Set the aspect ratio of the plot to be equal\n",
    "plt.plot(x, y)\n",
    "plt.xlabel(\"x\")\n",
    "plt.ylabel(\"y\")\n",
    "# Add guidelines at branches\n",
    "for i in [-1, 0, 1]:\n",
    "    plt.axvline(i, color=\"0.5\", linestyle=\":\", linewidth=1)\n",
    "    plt.axhline(i, color=\"0.5\", linestyle=\":\", linewidth=1)\n",
    "\n",
    "# These are my personal preferences for plots/ticks\n",
    "ax = plt.gca()\n",
    "ax.xaxis.set_ticks_position('both')\n",
    "ax.yaxis.set_ticks_position('both')\n",
    "ax.xaxis.set_minor_locator(mpl.ticker.AutoMinorLocator())\n",
    "ax.yaxis.set_minor_locator(mpl.ticker.AutoMinorLocator())\n",
    "ax.tick_params(axis='both', which='both', direction='in')\n"
   ]
  },
  {
   "cell_type": "markdown",
   "metadata": {},
   "source": [
    "This below approach is _so_ slow... How slow is it?"
   ]
  },
  {
   "cell_type": "code",
   "execution_count": null,
   "metadata": {},
   "outputs": [],
   "source": [
    "a = np.random.randn(1_000, 1_000)\n",
    "\n",
    "def slow_func(arr):\n",
    "    \"\"\"\n",
    "    This is a slow way to apply elementwise_func to all elements of arr\n",
    "    \"\"\"\n",
    "    try:\n",
    "        assert arr.ndim == 2\n",
    "    except AssertionError:\n",
    "        raise ValueError(\"Input array must be 2D\")\n",
    "    b = np.empty_like(arr)\n",
    "    for i in range(arr.shape[0]):\n",
    "        for j in range(arr.shape[1]):\n",
    "            b[i,j] = elementwise_func(arr[i,j])\n",
    "    return b\n",
    "\n",
    "%timeit slow_func(a)"
   ]
  },
  {
   "cell_type": "code",
   "execution_count": null,
   "metadata": {},
   "outputs": [],
   "source": [
    "# Just vectorize it bro\n",
    "vfunc = np.vectorize(elementwise_func)\n",
    "%timeit vfunc(a)"
   ]
  },
  {
   "cell_type": "markdown",
   "metadata": {},
   "source": [
    "...slight improvement"
   ]
  },
  {
   "cell_type": "markdown",
   "metadata": {},
   "source": [
    "### Exercise 1\n",
    "\n",
    "Make a vectorized version of the below function `elementwise_func` using NumPy. Use the cell below and keep the `def fast_func(arr):` signature."
   ]
  },
  {
   "cell_type": "code",
   "execution_count": null,
   "metadata": {},
   "outputs": [],
   "source": [
    "def fast_func(arr):\n",
    "    # Write a vectorized version of elementwise_func\n",
    "    # Replace this with your code. This is just a placeholder.\n",
    "    return slow_func(arr)  # This is wrong"
   ]
  },
  {
   "cell_type": "markdown",
   "metadata": {},
   "source": [
    "Test your function with the below cell."
   ]
  },
  {
   "cell_type": "code",
   "execution_count": null,
   "metadata": {},
   "outputs": [],
   "source": [
    "# Compute both slow and fast versions\n",
    "slow, fast = slow_func(a), fast_func(a)\n",
    "# Compare the results\n",
    "err = np.abs(slow - fast)\n",
    "# Find the maximum relative error and its location\n",
    "loc = np.unravel_index(np.argmax(err), err.shape)  # convert flat index to 2D index\n",
    "rel_err_max = np.max(err) / np.abs(slow[loc])\n",
    "\n",
    "# Print the results\n",
    "print(\"Slow and fast are (roughly) equal:\", np.allclose(slow, fast))\n",
    "print(f\"Maximum relative error: {rel_err_max:.03g}, at location: ({loc[0]}, {loc[1]})\")\n",
    "print(\"\\nAt this location:\")\n",
    "print(\"    a[loc]    =\", a[loc])\n",
    "print(\"    slow[loc] =\", slow[loc])\n",
    "print(\"    fast[loc] =\", fast[loc])\n",
    "\n",
    "# Asside: Why is there a difference? (hint: machine precision)\n",
    "#         This could be a whole lecture on its own, and it has been:\n",
    "#         https://researchcomputing.princeton.edu/events/2025/floating-point-numbers-arent-real\n",
    "print(\"\\nMachinemachine precision:\",\n",
    "      np.finfo(np.float64).epsneg,\n",
    "      np.finfo(np.float64).eps)"
   ]
  },
  {
   "cell_type": "markdown",
   "metadata": {},
   "source": [
    "How fast is your fast_func?\n"
   ]
  },
  {
   "cell_type": "code",
   "execution_count": null,
   "metadata": {},
   "outputs": [],
   "source": [
    "%timeit fast_func(a)"
   ]
  },
  {
   "cell_type": "markdown",
   "metadata": {},
   "source": [
    "Compare the runtimes of the functions. We'll also time my solution here. Can you beat me?"
   ]
  },
  {
   "cell_type": "code",
   "execution_count": null,
   "metadata": {},
   "outputs": [],
   "source": [
    "from instructor_solutions.solutions_05 import exercise_1\n",
    "\n",
    "print(\"slow_func:\")\n",
    "%timeit slow_func(a)\n",
    "print(\"\\nfast_func:\")\n",
    "%timeit fast_func(a)\n",
    "print(\"\\ninstructor:\")\n",
    "%timeit exercise_1(a)"
   ]
  },
  {
   "cell_type": "markdown",
   "metadata": {},
   "source": [
    "### Exercise 2\n",
    "\n",
    "Compute distances between all points in `X` and `Y`. An element-wise version of this function is given below. Can you make a vectorized version of it?"
   ]
  },
  {
   "cell_type": "code",
   "execution_count": null,
   "metadata": {},
   "outputs": [],
   "source": [
    "points = np.random.rand(1000, 2)  # 1000 points in 2D\n",
    "\n",
    "\n",
    "def slow_dist_matrix(points):\n",
    "    \"\"\"\n",
    "    Input: points is an Nx2 array of points in 2D\n",
    "    Output: NxN array of distances between points\n",
    "            out[i, j] = distance between points[i,:] and points[j,:]\n",
    "    \"\"\"\n",
    "    N = len(points)\n",
    "    distances = np.empty((N, N))\n",
    "    for i in range(N):\n",
    "        for j in range(N):\n",
    "            distances[i, j] = np.sqrt((points[i, 0] - points[j, 0]) ** 2\n",
    "                                      + (points[i, 1] - points[j, 1]) ** 2)\n",
    "    return distances\n",
    "\n",
    "distances = slow_dist_matrix(points)"
   ]
  },
  {
   "cell_type": "code",
   "execution_count": null,
   "metadata": {},
   "outputs": [],
   "source": [
    "def fast_dist_matrix(points):\n",
    "    # Write a vectorized version of slow_dist_matrix\n",
    "    # Replace this with your code. This is just a placeholder.\n",
    "    return slow_dist_matrix(points)  # This is wrong"
   ]
  },
  {
   "cell_type": "code",
   "execution_count": null,
   "metadata": {},
   "outputs": [],
   "source": [
    "# Compute both slow and fast versions\n",
    "slow, fast = slow_dist_matrix(points), fast_dist_matrix(points)\n",
    "# Compare the results\n",
    "err = np.abs(slow - fast)\n",
    "# Find the maximum relative error and its location\n",
    "loc = np.unravel_index(np.argmax(err), err.shape)  # convert flat index to 2D index\n",
    "rel_err_max = np.max(err) / np.abs(slow[loc])\n",
    "\n",
    "# Print the results\n",
    "print(\"Slow and fast are (roughly) equal:\", np.allclose(slow, fast))\n",
    "print(f\"Maximum relative error: {rel_err_max:.03g}, at location: ({loc[0]}, {loc[1]})\")\n",
    "print(\"\\nAt this location:\")\n",
    "print(\"    points =\", points[loc[0], :], points[loc[1], :])\n",
    "print(\"    slow   =\", slow[loc])\n",
    "print(\"    fast   =\", fast[loc])"
   ]
  },
  {
   "cell_type": "code",
   "execution_count": null,
   "metadata": {},
   "outputs": [],
   "source": [
    "from instructor_solutions.solutions_05 import exercise_2\n",
    "\n",
    "print(\"slow_func:\")\n",
    "%timeit slow_dist_matrix(points)\n",
    "print(\"\\nfast_func:\")\n",
    "%timeit fast_dist_matrix(points)\n",
    "print(\"\\ninstructor:\")\n",
    "%timeit exercise_2(points)"
   ]
  },
  {
   "cell_type": "markdown",
   "metadata": {},
   "source": [
    "# Choosing What to Optimize (Profiling)\n",
    "\n",
    "I.e. optimizing what you should optimize.\n",
    "\n",
    "When optimizing code, you should always choose the most time-consuming part of your code to optimize. Don't waste time optimizing code that takes a negligible amount of time. Sometimes removing for loops can take a lot of time/effort and not give you much in return.\n",
    "\n",
    "See also: https://researchcomputing.princeton.edu/python-profiling"
   ]
  },
  {
   "cell_type": "markdown",
   "metadata": {},
   "source": [
    "# Example 1\n",
    "\n",
    "Let's say we want to make a function that takes in an integer ±n and returns the nth\n",
    "(base 10) digit of pi if it's positive, and the nth digit of e if it's negative."
   ]
  },
  {
   "cell_type": "code",
   "execution_count": null,
   "metadata": {},
   "outputs": [],
   "source": [
    "# We have digits of pi and e in text files, let's convert them to numpy arrays\n",
    "def digits2npy(infile, outfile):\n",
    "    out = []\n",
    "    with open(infile, \"r\") as f:\n",
    "        for line in f:\n",
    "            digits = line.strip().replace(\".\", \"\").replace(\" \", \"\")\n",
    "            out.extend([int(d) for d in digits])\n",
    "\n",
    "    digits = np.array(out, dtype=np.uint8)\n",
    "    np.save(outfile, digits)\n",
    "    return outfile\n",
    "\n",
    "\n",
    "# Here's my elementwise function\n",
    "def my_epi(i, pi_digits, e_digits):\n",
    "    if i == 0:\n",
    "        return 0\n",
    "    if i > 0:\n",
    "        return pi_digits[i]\n",
    "    if i < 0:\n",
    "        return e_digits[-i]\n",
    "\n",
    "\n",
    "# This function implements the elementwise function on an array\n",
    "def eval_epi(arr):\n",
    "    pi_digits = np.load(digits2npy(\"data/pi.txt\", \"data/pi.npy\"))\n",
    "    e_digits = np.load(digits2npy(\"data/e.txt\", \"data/e.npy\"))\n",
    "    return np.array([my_epi(i, pi_digits, e_digits) for i in arr.reshape(-1)])\n"
   ]
  },
  {
   "cell_type": "code",
   "execution_count": null,
   "metadata": {},
   "outputs": [],
   "source": [
    "np.random.seed(1746)\n",
    "N = 10_000  # number of digits we have\n",
    "data = np.random.randint(-N, N, size=(1000, 1000))\n",
    "\n",
    "%timeit eval_epi(data)"
   ]
  },
  {
   "cell_type": "markdown",
   "metadata": {},
   "source": [
    "Let's see where the time is spent."
   ]
  },
  {
   "cell_type": "code",
   "execution_count": null,
   "metadata": {},
   "outputs": [],
   "source": [
    "%prun eval_epi(data)"
   ]
  },
  {
   "cell_type": "markdown",
   "metadata": {},
   "source": [
    "Where should we focus our optimization efforts?"
   ]
  }
 ],
 "metadata": {
  "kernelspec": {
   "display_name": "np-workshop",
   "language": "python",
   "name": "python3"
  },
  "language_info": {
   "codemirror_mode": {
    "name": "ipython",
    "version": 3
   },
   "file_extension": ".py",
   "mimetype": "text/x-python",
   "name": "python",
   "nbconvert_exporter": "python",
   "pygments_lexer": "ipython3",
   "version": "3.13.2"
  }
 },
 "nbformat": 4,
 "nbformat_minor": 4
}
